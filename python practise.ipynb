{
 "cells": [
  {
   "cell_type": "code",
   "execution_count": 12,
   "metadata": {},
   "outputs": [
    {
     "name": "stdout",
     "output_type": "stream",
     "text": [
      "2\n",
      "3\n",
      "4\n",
      "6\n",
      "7\n",
      "8\n",
      "9\n",
      "is a prime number\n"
     ]
    }
   ],
   "source": [
    "for i in range(2,10):\n",
    "    \n",
    "    if (i == 5):\n",
    "        continue\n",
    "    print (i)\n",
    "else:                 \n",
    "    print ('is a prime number')"
   ]
  },
  {
   "cell_type": "code",
   "execution_count": 41,
   "metadata": {},
   "outputs": [
    {
     "name": "stdout",
     "output_type": "stream",
     "text": [
      "calling son class\n",
      "son attribute : 500\n",
      "Parent attribute : 45\n"
     ]
    },
    {
     "data": {
      "text/plain": [
       "45"
      ]
     },
     "execution_count": 41,
     "metadata": {},
     "output_type": "execute_result"
    }
   ],
   "source": [
    "class parent:\n",
    "    par=100\n",
    "    def __init__(self):\n",
    "        print (\"calling parent class\")\n",
    "    def setAttr(self,Attr):\n",
    "        self.par=Attr\n",
    "    def getAttr(self):\n",
    "        print (\"Parent attribute :\", self.par)\n",
    "        return self.par\n",
    "class son(parent):\n",
    "    par=20\n",
    "    def __init__(self):\n",
    "        print (\"calling son class\")\n",
    "    def setAttr(self,Attr):\n",
    "        self.par=Attr\n",
    "    def getAttr(self):\n",
    "        print (\"son attribute :\", self.par)\n",
    "        return self.par\n",
    "s = son()\n",
    "s.setAttr(500)\n",
    "s.getAttr()\n",
    "super(son,s).setAttr(45)\n",
    "super(son,s).getAttr()"
   ]
  },
  {
   "cell_type": "code",
   "execution_count": 4,
   "metadata": {},
   "outputs": [
    {
     "name": "stdout",
     "output_type": "stream",
     "text": [
      "hello\n"
     ]
    }
   ],
   "source": [
    "print (\"hello\")"
   ]
  }
 ],
 "metadata": {
  "kernelspec": {
   "display_name": "Python 3",
   "language": "python",
   "name": "python3"
  },
  "language_info": {
   "codemirror_mode": {
    "name": "ipython",
    "version": 3
   },
   "file_extension": ".py",
   "mimetype": "text/x-python",
   "name": "python",
   "nbconvert_exporter": "python",
   "pygments_lexer": "ipython3",
   "version": "3.6.3"
  }
 },
 "nbformat": 4,
 "nbformat_minor": 2
}
